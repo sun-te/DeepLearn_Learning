{
 "cells": [
  {
   "cell_type": "markdown",
   "metadata": {},
   "source": [
    "# Treasure finder, a reinforcement learning example"
   ]
  },
  {
   "cell_type": "code",
   "execution_count": 24,
   "metadata": {},
   "outputs": [],
   "source": [
    "import numpy as np \n",
    "import pandas as pd\n",
    "import time\n",
    "\n",
    "np.random.seed(2)\n",
    "\n",
    "N_STATES=6\n",
    "ACTIONS=['l','r']\n",
    "EPSILON=0.9  #Bandit, choose the \"best\" with a proba epsilon\n",
    "ALPHA=0.1    #learning rate\n",
    "LAMBDA=0.9   #discount rate ?????????????\n",
    "MAX_EPISODES=13\n",
    "FRESH_TIME=0.1"
   ]
  },
  {
   "cell_type": "code",
   "execution_count": 25,
   "metadata": {},
   "outputs": [
    {
     "name": "stdout",
     "output_type": "stream",
     "text": [
      "     l    r\n",
      "0  0.0  0.0\n",
      "1  0.0  0.0\n",
      "2  0.0  0.0\n",
      "3  0.0  0.0\n",
      "4  0.0  0.0\n",
      "5  0.0  0.0\n"
     ]
    }
   ],
   "source": [
    "def build_q_table(n_states,actions):\n",
    "    table=pd.DataFrame(\n",
    "        np.zeros((n_states,len(actions))),\n",
    "        columns=actions\n",
    "    )\n",
    "    print(table)\n",
    "    return table\n",
    "q_table=build_q_table(N_STATES,ACTIONS)"
   ]
  },
  {
   "cell_type": "code",
   "execution_count": 26,
   "metadata": {},
   "outputs": [],
   "source": [
    "def get_env_feedback(S,A):\n",
    "    if A=='r': #向右运动\n",
    "        if S==N_STATES-2: #下一步就直接到达了\n",
    "            S='terminal'\n",
    "            R=1          \n",
    "        else:\n",
    "            S=S+1\n",
    "            R=0\n",
    "    else: #向左移动，只要还能动，reward是零\n",
    "        R=0\n",
    "        if S==0:\n",
    "            S=S\n",
    "        else:\n",
    "            S=S-1\n",
    "    return S,R    "
   ]
  },
  {
   "cell_type": "code",
   "execution_count": 27,
   "metadata": {},
   "outputs": [],
   "source": [
    "def choose_action(state,q_table):\n",
    "    state_actions=q_table.iloc[state,:]\n",
    "    if(np.random.uniform()>EPSILON) or (state_actions.all()==0): #意思是还在初始化的时候\n",
    "        action_name=np.random.choice(ACTIONS)\n",
    "    else:\n",
    "        action_name=state_actions.argmax()\n",
    "    return action_name"
   ]
  },
  {
   "cell_type": "code",
   "execution_count": 48,
   "metadata": {},
   "outputs": [],
   "source": [
    "def rl():\n",
    "    q_table=build_q_table(N_STATES,ACTIONS)\n",
    "    for episode in range(MAX_EPISODES):\n",
    "        step_counter=0\n",
    "        S=0\n",
    "        is_terminated=False\n",
    "        update_env(S,episode,step_counter)\n",
    "        while not is_terminated: #更新Q_table，直到能够找到目的地\n",
    "            \n",
    "            A=choose_action(S,q_table)\n",
    "            a_index=0 if A=='l' else 1\n",
    "            S_,R=get_env_feedback(S,A)\n",
    "            q_predict=q_table.iloc[S,a_index]\n",
    "            if S_!='terminal':\n",
    "                q_target=R+LAMBDA*q_table.iloc[S_,:].max()\n",
    "            else:\n",
    "                q_target=R\n",
    "                is_terminated=True\n",
    "            q_table.iloc[S,a_index]+=ALPHA*(q_target-q_predict)\n",
    "            S=S_\n",
    "\n",
    "            update_env(S,episode,step_counter+1)\n",
    "            step_counter+=1\n",
    "            \n",
    "        \n",
    "    return q_table            "
   ]
  },
  {
   "cell_type": "code",
   "execution_count": 49,
   "metadata": {},
   "outputs": [
    {
     "name": "stdout",
     "output_type": "stream",
     "text": [
      "     l    r\n",
      "0  0.0  0.0\n",
      "1  0.0  0.0\n",
      "2  0.0  0.0\n",
      "3  0.0  0.0\n",
      "4  0.0  0.0\n",
      "5  0.0  0.0\n",
      "---o-T                          "
     ]
    },
    {
     "name": "stderr",
     "output_type": "stream",
     "text": [
      "E:\\Study\\lib\\site-packages\\ipykernel_launcher.py:6: FutureWarning: 'argmax' is deprecated, use 'idxmax' instead. The behavior of 'argmax'\n",
      "will be corrected to return the positional maximum in the future.\n",
      "Use 'series.values.argmax' to get the position of the maximum now.\n",
      "  \n"
     ]
    },
    {
     "name": "stdout",
     "output_type": "stream",
     "text": [
      "                                "
     ]
    },
    {
     "data": {
      "text/html": [
       "<div>\n",
       "<style scoped>\n",
       "    .dataframe tbody tr th:only-of-type {\n",
       "        vertical-align: middle;\n",
       "    }\n",
       "\n",
       "    .dataframe tbody tr th {\n",
       "        vertical-align: top;\n",
       "    }\n",
       "\n",
       "    .dataframe thead th {\n",
       "        text-align: right;\n",
       "    }\n",
       "</style>\n",
       "<table border=\"1\" class=\"dataframe\">\n",
       "  <thead>\n",
       "    <tr style=\"text-align: right;\">\n",
       "      <th></th>\n",
       "      <th>l</th>\n",
       "      <th>r</th>\n",
       "    </tr>\n",
       "  </thead>\n",
       "  <tbody>\n",
       "    <tr>\n",
       "      <th>0</th>\n",
       "      <td>0.000002</td>\n",
       "      <td>0.005746</td>\n",
       "    </tr>\n",
       "    <tr>\n",
       "      <th>1</th>\n",
       "      <td>0.000002</td>\n",
       "      <td>0.030218</td>\n",
       "    </tr>\n",
       "    <tr>\n",
       "      <th>2</th>\n",
       "      <td>0.000067</td>\n",
       "      <td>0.120188</td>\n",
       "    </tr>\n",
       "    <tr>\n",
       "      <th>3</th>\n",
       "      <td>0.000073</td>\n",
       "      <td>0.352990</td>\n",
       "    </tr>\n",
       "    <tr>\n",
       "      <th>4</th>\n",
       "      <td>0.007458</td>\n",
       "      <td>0.745813</td>\n",
       "    </tr>\n",
       "    <tr>\n",
       "      <th>5</th>\n",
       "      <td>0.000000</td>\n",
       "      <td>0.000000</td>\n",
       "    </tr>\n",
       "  </tbody>\n",
       "</table>\n",
       "</div>"
      ],
      "text/plain": [
       "          l         r\n",
       "0  0.000002  0.005746\n",
       "1  0.000002  0.030218\n",
       "2  0.000067  0.120188\n",
       "3  0.000073  0.352990\n",
       "4  0.007458  0.745813\n",
       "5  0.000000  0.000000"
      ]
     },
     "execution_count": 49,
     "metadata": {},
     "output_type": "execute_result"
    }
   ],
   "source": [
    "rl()"
   ]
  },
  {
   "cell_type": "code",
   "execution_count": 36,
   "metadata": {},
   "outputs": [
    {
     "data": {
      "text/plain": [
       "0.0"
      ]
     },
     "execution_count": 36,
     "metadata": {},
     "output_type": "execute_result"
    }
   ],
   "source": [
    "q_table.iloc[0,1]"
   ]
  },
  {
   "cell_type": "code",
   "execution_count": null,
   "metadata": {},
   "outputs": [],
   "source": []
  }
 ],
 "metadata": {
  "kernelspec": {
   "display_name": "Python 3",
   "language": "python",
   "name": "python3"
  },
  "language_info": {
   "codemirror_mode": {
    "name": "ipython",
    "version": 3
   },
   "file_extension": ".py",
   "mimetype": "text/x-python",
   "name": "python",
   "nbconvert_exporter": "python",
   "pygments_lexer": "ipython3",
   "version": "3.7.1"
  }
 },
 "nbformat": 4,
 "nbformat_minor": 2
}
